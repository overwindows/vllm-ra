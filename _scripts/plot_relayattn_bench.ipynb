{
 "cells": [
  {
   "cell_type": "code",
   "execution_count": 24,
   "metadata": {},
   "outputs": [],
   "source": [
    "\n",
    "\n",
    "import os\n",
    "import json\n",
    "from typing import List\n",
    "\n",
    "import pandas\n",
    "\n",
    "def summarize_exps_to_csv(benchmark_result_dir:str):\n",
    "    all_data = []\n",
    "    # Loop through the items in the directory\n",
    "    for item in os.listdir(benchmark_result_dir):\n",
    "        subdir_full_path = os.path.join(benchmark_result_dir, item)\n",
    "        # Check if the item is a subdirectory\n",
    "        if not (item.startswith('nreqs') and os.path.isdir(subdir_full_path)):\n",
    "            print(f'skipping {item}')\n",
    "            continue\n",
    "        benchmark_json = os.path.join(subdir_full_path, 'benchmark.json')\n",
    "        if not (os.path.isfile(benchmark_json)):\n",
    "            print(f'skipping {item}')\n",
    "            continue\n",
    "        # Parse dir name to configs \n",
    "        configs = {}\n",
    "        pairs = item.split('.')\n",
    "        for pair in pairs:\n",
    "            key, value = pair.split('_')\n",
    "            try:\n",
    "                value = int(value)\n",
    "            except ValueError:\n",
    "                pass\n",
    "            # Add the key-value pair to the dictionary\n",
    "            configs[key] = value\n",
    "        # Read the benchmark result\n",
    "        with open(benchmark_json) as file:\n",
    "            metrics = json.load(file)\n",
    "        \n",
    "        # Read the profile result and analyze\n",
    "        with open(os.path.join(subdir_full_path, 'profile.json')) as file:\n",
    "            profile = json.load(file)\n",
    "        def get_event(fuzzy_event_name:str, events:List[dict]):\n",
    "            for e in events:\n",
    "                if fuzzy_event_name in e[\"name\"]:\n",
    "                    return e\n",
    "            return None\n",
    "        # TODO: there is a reduce kernel in PagedAttentionV2 \n",
    "        event2fuzzyid={\n",
    "            \"cache_op\": \"vllm::reshape_and_cache_kernel\",\n",
    "            \"attn_usr\": \"vllm::paged_attention\",\n",
    "            \"attn_sys\": \"flash_fwd\",\n",
    "            \"relay_fusion\": \"_relay_fuse_kernel\"\n",
    "        }\n",
    "        durations = {}\n",
    "        for event_name, fuzzy_id in event2fuzzyid.items():\n",
    "            event = get_event(fuzzy_id, events=profile[\"traceEvents\"])\n",
    "            if event is not None:\n",
    "            # print(item, event_name)\n",
    "                durations[event_name] = event['dur']\n",
    "            else:\n",
    "                assert configs['relay'] == \"false\"\n",
    "                durations[event_name] = 0\n",
    "        durations['others'] = metrics['Lantency (us)'] - sum(durations.values())\n",
    "\n",
    "        # print(configs, metrics, durations)\n",
    "        all_data.append({**configs, **metrics, **durations})\n",
    "\n",
    "    df = pandas.DataFrame(all_data)\n",
    "    df.to_csv(os.path.join(benchmark_result_dir, \"summary.csv\"), index=False)\n",
    "    return df"
   ]
  },
  {
   "cell_type": "code",
   "execution_count": 28,
   "metadata": {},
   "outputs": [
    {
     "name": "stdout",
     "output_type": "stream",
     "text": [
      "Looking in indexes: http://mirrors.aliyun.com/pypi/simple\n",
      "Requirement already satisfied: SciencePlots in /root/miniconda3/envs/plot/lib/python3.9/site-packages (2.1.1)\n",
      "Requirement already satisfied: matplotlib in /root/miniconda3/envs/plot/lib/python3.9/site-packages (from SciencePlots) (3.8.2)\n",
      "Requirement already satisfied: contourpy>=1.0.1 in /root/miniconda3/envs/plot/lib/python3.9/site-packages (from matplotlib->SciencePlots) (1.2.0)\n",
      "Requirement already satisfied: cycler>=0.10 in /root/miniconda3/envs/plot/lib/python3.9/site-packages (from matplotlib->SciencePlots) (0.12.1)\n",
      "Requirement already satisfied: fonttools>=4.22.0 in /root/miniconda3/envs/plot/lib/python3.9/site-packages (from matplotlib->SciencePlots) (4.47.2)\n",
      "Requirement already satisfied: kiwisolver>=1.3.1 in /root/miniconda3/envs/plot/lib/python3.9/site-packages (from matplotlib->SciencePlots) (1.4.5)\n",
      "Requirement already satisfied: numpy<2,>=1.21 in /root/miniconda3/envs/plot/lib/python3.9/site-packages (from matplotlib->SciencePlots) (1.26.3)\n",
      "Requirement already satisfied: packaging>=20.0 in /root/miniconda3/envs/plot/lib/python3.9/site-packages (from matplotlib->SciencePlots) (23.2)\n",
      "Requirement already satisfied: pillow>=8 in /root/miniconda3/envs/plot/lib/python3.9/site-packages (from matplotlib->SciencePlots) (10.2.0)\n",
      "Requirement already satisfied: pyparsing>=2.3.1 in /root/miniconda3/envs/plot/lib/python3.9/site-packages (from matplotlib->SciencePlots) (3.1.1)\n",
      "Requirement already satisfied: python-dateutil>=2.7 in /root/miniconda3/envs/plot/lib/python3.9/site-packages (from matplotlib->SciencePlots) (2.8.2)\n",
      "Requirement already satisfied: importlib-resources>=3.2.0 in /root/miniconda3/envs/plot/lib/python3.9/site-packages (from matplotlib->SciencePlots) (6.1.1)\n",
      "Requirement already satisfied: zipp>=3.1.0 in /root/miniconda3/envs/plot/lib/python3.9/site-packages (from importlib-resources>=3.2.0->matplotlib->SciencePlots) (3.17.0)\n",
      "Requirement already satisfied: six>=1.5 in /root/miniconda3/envs/plot/lib/python3.9/site-packages (from python-dateutil>=2.7->matplotlib->SciencePlots) (1.16.0)\n",
      "\u001b[33mWARNING: Running pip as the 'root' user can result in broken permissions and conflicting behaviour with the system package manager. It is recommended to use a virtual environment instead: https://pip.pypa.io/warnings/venv\u001b[0m\u001b[33m\n",
      "\u001b[0m"
     ]
    }
   ],
   "source": [
    "! pip install SciencePlots"
   ]
  },
  {
   "cell_type": "code",
   "execution_count": 25,
   "metadata": {},
   "outputs": [],
   "source": [
    "def plot_relay_bench(df:pandas.DataFrame, ):\n",
    "    pass"
   ]
  },
  {
   "cell_type": "code",
   "execution_count": 29,
   "metadata": {},
   "outputs": [
    {
     "name": "stdout",
     "output_type": "stream",
     "text": [
      "skipping summary.csv\n",
      "skipping nreqs_128.ctxlen_128.prefixlen_16384.relay_false\n",
      "skipping nreqs_128.ctxlen_256.prefixlen_16384.relay_false\n"
     ]
    },
    {
     "ename": "OSError",
     "evalue": "'light' is not a valid package style, path of style file, URL of style file, or library style name (library styles are listed in `style.available`)",
     "output_type": "error",
     "traceback": [
      "\u001b[0;31m---------------------------------------------------------------------------\u001b[0m",
      "\u001b[0;31mFileNotFoundError\u001b[0m                         Traceback (most recent call last)",
      "File \u001b[0;32m~/miniconda3/envs/plot/lib/python3.9/site-packages/matplotlib/style/core.py:137\u001b[0m, in \u001b[0;36muse\u001b[0;34m(style)\u001b[0m\n\u001b[1;32m    136\u001b[0m \u001b[39mtry\u001b[39;00m:\n\u001b[0;32m--> 137\u001b[0m     style \u001b[39m=\u001b[39m _rc_params_in_file(style)\n\u001b[1;32m    138\u001b[0m \u001b[39mexcept\u001b[39;00m \u001b[39mOSError\u001b[39;00m \u001b[39mas\u001b[39;00m err:\n",
      "File \u001b[0;32m~/miniconda3/envs/plot/lib/python3.9/site-packages/matplotlib/__init__.py:866\u001b[0m, in \u001b[0;36m_rc_params_in_file\u001b[0;34m(fname, transform, fail_on_error)\u001b[0m\n\u001b[1;32m    865\u001b[0m rc_temp \u001b[39m=\u001b[39m {}\n\u001b[0;32m--> 866\u001b[0m \u001b[39mwith\u001b[39;00m _open_file_or_url(fname) \u001b[39mas\u001b[39;00m fd:\n\u001b[1;32m    867\u001b[0m     \u001b[39mtry\u001b[39;00m:\n",
      "File \u001b[0;32m~/miniconda3/envs/plot/lib/python3.9/contextlib.py:119\u001b[0m, in \u001b[0;36m_GeneratorContextManager.__enter__\u001b[0;34m(self)\u001b[0m\n\u001b[1;32m    118\u001b[0m \u001b[39mtry\u001b[39;00m:\n\u001b[0;32m--> 119\u001b[0m     \u001b[39mreturn\u001b[39;00m \u001b[39mnext\u001b[39;49m(\u001b[39mself\u001b[39;49m\u001b[39m.\u001b[39;49mgen)\n\u001b[1;32m    120\u001b[0m \u001b[39mexcept\u001b[39;00m \u001b[39mStopIteration\u001b[39;00m:\n",
      "File \u001b[0;32m~/miniconda3/envs/plot/lib/python3.9/site-packages/matplotlib/__init__.py:843\u001b[0m, in \u001b[0;36m_open_file_or_url\u001b[0;34m(fname)\u001b[0m\n\u001b[1;32m    842\u001b[0m fname \u001b[39m=\u001b[39m os\u001b[39m.\u001b[39mpath\u001b[39m.\u001b[39mexpanduser(fname)\n\u001b[0;32m--> 843\u001b[0m \u001b[39mwith\u001b[39;00m \u001b[39mopen\u001b[39;49m(fname, encoding\u001b[39m=\u001b[39;49m\u001b[39m'\u001b[39;49m\u001b[39mutf-8\u001b[39;49m\u001b[39m'\u001b[39;49m) \u001b[39mas\u001b[39;00m f:\n\u001b[1;32m    844\u001b[0m     \u001b[39myield\u001b[39;00m f\n",
      "\u001b[0;31mFileNotFoundError\u001b[0m: [Errno 2] No such file or directory: 'light'",
      "\nThe above exception was the direct cause of the following exception:\n",
      "\u001b[0;31mOSError\u001b[0m                                   Traceback (most recent call last)",
      "\u001b[1;32m/root/autodl-tmp/vllm/_scripts/plot_relayattn_bench.ipynb Cell 4\u001b[0m line \u001b[0;36m2\n\u001b[1;32m     <a href='vscode-notebook-cell://ssh-remote%2Bautodl-nm825/root/autodl-tmp/vllm/_scripts/plot_relayattn_bench.ipynb#W2sdnNjb2RlLXJlbW90ZQ%3D%3D?line=22'>23</a>\u001b[0m plt\u001b[39m.\u001b[39mrcParams\u001b[39m.\u001b[39mupdate({\u001b[39m'\u001b[39m\u001b[39mfont.size\u001b[39m\u001b[39m'\u001b[39m: \u001b[39m12\u001b[39m, \u001b[39m'\u001b[39m\u001b[39mfont.serif\u001b[39m\u001b[39m'\u001b[39m: \u001b[39m'\u001b[39m\u001b[39mTimes New Roman\u001b[39m\u001b[39m'\u001b[39m, \u001b[39m'\u001b[39m\u001b[39maxes.linewidth\u001b[39m\u001b[39m'\u001b[39m: \u001b[39m1\u001b[39m})\n\u001b[1;32m     <a href='vscode-notebook-cell://ssh-remote%2Bautodl-nm825/root/autodl-tmp/vllm/_scripts/plot_relayattn_bench.ipynb#W2sdnNjb2RlLXJlbW90ZQ%3D%3D?line=23'>24</a>\u001b[0m save_path\u001b[39m=\u001b[39mos\u001b[39m.\u001b[39mpath\u001b[39m.\u001b[39mjoin(bench_exps_dir, \u001b[39mf\u001b[39m\u001b[39m'\u001b[39m\u001b[39mteaser_bs\u001b[39m\u001b[39m{\u001b[39;00mnreqs_plot\u001b[39m}\u001b[39;00m\u001b[39mctxlen\u001b[39m\u001b[39m{\u001b[39;00mctxlen_plot\u001b[39m}\u001b[39;00m\u001b[39m.svg\u001b[39m\u001b[39m'\u001b[39m)\n\u001b[0;32m---> <a href='vscode-notebook-cell://ssh-remote%2Bautodl-nm825/root/autodl-tmp/vllm/_scripts/plot_relayattn_bench.ipynb#W2sdnNjb2RlLXJlbW90ZQ%3D%3D?line=24'>25</a>\u001b[0m \u001b[39mwith\u001b[39;00m plt\u001b[39m.\u001b[39mstyle\u001b[39m.\u001b[39mcontext([\u001b[39m'\u001b[39m\u001b[39mlight\u001b[39m\u001b[39m'\u001b[39m]):\n\u001b[1;32m     <a href='vscode-notebook-cell://ssh-remote%2Bautodl-nm825/root/autodl-tmp/vllm/_scripts/plot_relayattn_bench.ipynb#W2sdnNjb2RlLXJlbW90ZQ%3D%3D?line=25'>26</a>\u001b[0m     ax \u001b[39m=\u001b[39m df_new\u001b[39m.\u001b[39mplot\u001b[39m.\u001b[39mbar(\n\u001b[1;32m     <a href='vscode-notebook-cell://ssh-remote%2Bautodl-nm825/root/autodl-tmp/vllm/_scripts/plot_relayattn_bench.ipynb#W2sdnNjb2RlLXJlbW90ZQ%3D%3D?line=26'>27</a>\u001b[0m             xlabel\u001b[39m=\u001b[39m\u001b[39m'\u001b[39m\u001b[39mSystem Prompt Length (#tokens)\u001b[39m\u001b[39m'\u001b[39m,\n\u001b[1;32m     <a href='vscode-notebook-cell://ssh-remote%2Bautodl-nm825/root/autodl-tmp/vllm/_scripts/plot_relayattn_bench.ipynb#W2sdnNjb2RlLXJlbW90ZQ%3D%3D?line=27'>28</a>\u001b[0m             ylabel\u001b[39m=\u001b[39m\u001b[39m'\u001b[39m\u001b[39mLatency (us)\u001b[39m\u001b[39m'\u001b[39m,\n\u001b[1;32m     <a href='vscode-notebook-cell://ssh-remote%2Bautodl-nm825/root/autodl-tmp/vllm/_scripts/plot_relayattn_bench.ipynb#W2sdnNjb2RlLXJlbW90ZQ%3D%3D?line=28'>29</a>\u001b[0m             title\u001b[39m=\u001b[39m\u001b[39m'\u001b[39m\u001b[39mLatency vs. System Prompt Length\u001b[39m\u001b[39m'\u001b[39m,\n\u001b[1;32m     <a href='vscode-notebook-cell://ssh-remote%2Bautodl-nm825/root/autodl-tmp/vllm/_scripts/plot_relayattn_bench.ipynb#W2sdnNjb2RlLXJlbW90ZQ%3D%3D?line=29'>30</a>\u001b[0m             width\u001b[39m=\u001b[39m\u001b[39m0.7\u001b[39m,\n\u001b[1;32m     <a href='vscode-notebook-cell://ssh-remote%2Bautodl-nm825/root/autodl-tmp/vllm/_scripts/plot_relayattn_bench.ipynb#W2sdnNjb2RlLXJlbW90ZQ%3D%3D?line=30'>31</a>\u001b[0m             rot\u001b[39m=\u001b[39m\u001b[39m0\u001b[39m)\n\u001b[1;32m     <a href='vscode-notebook-cell://ssh-remote%2Bautodl-nm825/root/autodl-tmp/vllm/_scripts/plot_relayattn_bench.ipynb#W2sdnNjb2RlLXJlbW90ZQ%3D%3D?line=31'>32</a>\u001b[0m     ax\u001b[39m.\u001b[39mspines[\u001b[39m'\u001b[39m\u001b[39mright\u001b[39m\u001b[39m'\u001b[39m]\u001b[39m.\u001b[39mset_visible(\u001b[39mFalse\u001b[39;00m)\n",
      "File \u001b[0;32m~/miniconda3/envs/plot/lib/python3.9/contextlib.py:119\u001b[0m, in \u001b[0;36m_GeneratorContextManager.__enter__\u001b[0;34m(self)\u001b[0m\n\u001b[1;32m    117\u001b[0m \u001b[39mdel\u001b[39;00m \u001b[39mself\u001b[39m\u001b[39m.\u001b[39margs, \u001b[39mself\u001b[39m\u001b[39m.\u001b[39mkwds, \u001b[39mself\u001b[39m\u001b[39m.\u001b[39mfunc\n\u001b[1;32m    118\u001b[0m \u001b[39mtry\u001b[39;00m:\n\u001b[0;32m--> 119\u001b[0m     \u001b[39mreturn\u001b[39;00m \u001b[39mnext\u001b[39;49m(\u001b[39mself\u001b[39;49m\u001b[39m.\u001b[39;49mgen)\n\u001b[1;32m    120\u001b[0m \u001b[39mexcept\u001b[39;00m \u001b[39mStopIteration\u001b[39;00m:\n\u001b[1;32m    121\u001b[0m     \u001b[39mraise\u001b[39;00m \u001b[39mRuntimeError\u001b[39;00m(\u001b[39m\"\u001b[39m\u001b[39mgenerator didn\u001b[39m\u001b[39m'\u001b[39m\u001b[39mt yield\u001b[39m\u001b[39m\"\u001b[39m) \u001b[39mfrom\u001b[39;00m \u001b[39mNone\u001b[39;00m\n",
      "File \u001b[0;32m~/miniconda3/envs/plot/lib/python3.9/site-packages/matplotlib/style/core.py:194\u001b[0m, in \u001b[0;36mcontext\u001b[0;34m(style, after_reset)\u001b[0m\n\u001b[1;32m    192\u001b[0m \u001b[39mif\u001b[39;00m after_reset:\n\u001b[1;32m    193\u001b[0m     mpl\u001b[39m.\u001b[39mrcdefaults()\n\u001b[0;32m--> 194\u001b[0m use(style)\n\u001b[1;32m    195\u001b[0m \u001b[39myield\u001b[39;00m\n",
      "File \u001b[0;32m~/miniconda3/envs/plot/lib/python3.9/site-packages/matplotlib/style/core.py:139\u001b[0m, in \u001b[0;36muse\u001b[0;34m(style)\u001b[0m\n\u001b[1;32m    137\u001b[0m         style \u001b[39m=\u001b[39m _rc_params_in_file(style)\n\u001b[1;32m    138\u001b[0m     \u001b[39mexcept\u001b[39;00m \u001b[39mOSError\u001b[39;00m \u001b[39mas\u001b[39;00m err:\n\u001b[0;32m--> 139\u001b[0m         \u001b[39mraise\u001b[39;00m \u001b[39mOSError\u001b[39;00m(\n\u001b[1;32m    140\u001b[0m             \u001b[39mf\u001b[39m\u001b[39m\"\u001b[39m\u001b[39m{\u001b[39;00mstyle\u001b[39m!r}\u001b[39;00m\u001b[39m is not a valid package style, path of style \u001b[39m\u001b[39m\"\u001b[39m\n\u001b[1;32m    141\u001b[0m             \u001b[39mf\u001b[39m\u001b[39m\"\u001b[39m\u001b[39mfile, URL of style file, or library style name (library \u001b[39m\u001b[39m\"\u001b[39m\n\u001b[1;32m    142\u001b[0m             \u001b[39mf\u001b[39m\u001b[39m\"\u001b[39m\u001b[39mstyles are listed in `style.available`)\u001b[39m\u001b[39m\"\u001b[39m) \u001b[39mfrom\u001b[39;00m \u001b[39merr\u001b[39;00m\n\u001b[1;32m    143\u001b[0m filtered \u001b[39m=\u001b[39m {}\n\u001b[1;32m    144\u001b[0m \u001b[39mfor\u001b[39;00m k \u001b[39min\u001b[39;00m style:  \u001b[39m# don't trigger RcParams.__getitem__('backend')\u001b[39;00m\n",
      "\u001b[0;31mOSError\u001b[0m: 'light' is not a valid package style, path of style file, URL of style file, or library style name (library styles are listed in `style.available`)"
     ]
    }
   ],
   "source": [
    "import os\n",
    "import os.path as osp\n",
    "from matplotlib import pyplot as plt\n",
    "import numpy as np\n",
    "\n",
    "bench_root = '../outputs/relay_op'\n",
    "gpus = os.listdir(bench_root)\n",
    "\n",
    "for gpu in gpus:\n",
    "    bench_exps_dir = osp.join(bench_root, gpu)\n",
    "    df = summarize_exps_to_csv(bench_exps_dir)\n",
    "    for nreqs_plot in df['nreqs'].unique():\n",
    "        for ctxlen_plot in df['ctxlen'].unique():\n",
    "            condition = (df['nreqs']==nreqs_plot) & (df['ctxlen']==ctxlen_plot)\n",
    "            latency_relay = df[condition & (df['relay'] == 'true')].sort_values('prefixlen')\n",
    "            latency_norelay = df[condition & (df['relay'] == 'false')].sort_values('prefixlen')\n",
    "            df_new = pandas.DataFrame(\n",
    "                data={'PagedAttention': latency_norelay['Lantency (us)'].to_numpy(), \n",
    "                      'RelayAttention (ours)': latency_relay['Lantency (us)'].to_numpy()},\n",
    "                index=latency_relay['prefixlen'].to_numpy()\n",
    "            )\n",
    "            figsize=(8, 6)\n",
    "            plt.rcParams.update({'font.size': 12, 'font.serif': 'Times New Roman', 'axes.linewidth': 1})\n",
    "            save_path=os.path.join(bench_exps_dir, f'teaser_bs{nreqs_plot}ctxlen{ctxlen_plot}.svg')\n",
    "            with plt.style.context(['light']):\n",
    "                ax = df_new.plot.bar(\n",
    "                        xlabel='System Prompt Length (#tokens)',\n",
    "                        ylabel='Latency (us)',\n",
    "                        title='Latency vs. System Prompt Length',\n",
    "                        width=0.7,\n",
    "                        rot=0)\n",
    "                ax.spines['right'].set_visible(False)\n",
    "                ax.spines['top'].set_visible(False)\n",
    "            plt.tight_layout()\n",
    "            plt.savefig(save_path, dpi=300)\n",
    "            plt.show()"
   ]
  },
  {
   "cell_type": "code",
   "execution_count": 27,
   "metadata": {},
   "outputs": [
    {
     "data": {
      "text/plain": [
       "['Solarize_Light2',\n",
       " '_classic_test_patch',\n",
       " '_mpl-gallery',\n",
       " '_mpl-gallery-nogrid',\n",
       " 'bmh',\n",
       " 'classic',\n",
       " 'dark_background',\n",
       " 'fast',\n",
       " 'fivethirtyeight',\n",
       " 'ggplot',\n",
       " 'grayscale',\n",
       " 'seaborn-v0_8',\n",
       " 'seaborn-v0_8-bright',\n",
       " 'seaborn-v0_8-colorblind',\n",
       " 'seaborn-v0_8-dark',\n",
       " 'seaborn-v0_8-dark-palette',\n",
       " 'seaborn-v0_8-darkgrid',\n",
       " 'seaborn-v0_8-deep',\n",
       " 'seaborn-v0_8-muted',\n",
       " 'seaborn-v0_8-notebook',\n",
       " 'seaborn-v0_8-paper',\n",
       " 'seaborn-v0_8-pastel',\n",
       " 'seaborn-v0_8-poster',\n",
       " 'seaborn-v0_8-talk',\n",
       " 'seaborn-v0_8-ticks',\n",
       " 'seaborn-v0_8-white',\n",
       " 'seaborn-v0_8-whitegrid',\n",
       " 'tableau-colorblind10']"
      ]
     },
     "execution_count": 27,
     "metadata": {},
     "output_type": "execute_result"
    }
   ],
   "source": [
    "plt.style.available"
   ]
  },
  {
   "cell_type": "code",
   "execution_count": null,
   "metadata": {},
   "outputs": [],
   "source": []
  }
 ],
 "metadata": {
  "kernelspec": {
   "display_name": "plot",
   "language": "python",
   "name": "python3"
  },
  "language_info": {
   "codemirror_mode": {
    "name": "ipython",
    "version": 3
   },
   "file_extension": ".py",
   "mimetype": "text/x-python",
   "name": "python",
   "nbconvert_exporter": "python",
   "pygments_lexer": "ipython3",
   "version": "3.9.18"
  }
 },
 "nbformat": 4,
 "nbformat_minor": 2
}
